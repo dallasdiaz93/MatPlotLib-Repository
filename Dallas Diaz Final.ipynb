{
 "cells": [
  {
   "cell_type": "code",
   "execution_count": null,
   "metadata": {},
   "outputs": [],
   "source": [
    "# Dependencies and Setup\n",
    "%matplotlib inline\n",
    "import matplotlib.pyplot as plt\n",
    "import pandas as pd\n",
    "import numpy as np\n",
    "from scipy.stats import sem\n",
    "\n",
    "# Hide warning messages in notebook\n",
    "import warnings\n",
    "warnings.filterwarnings('ignore')\n",
    "\n",
    "# File to Load (Remember to Change These)\n",
    "mouse_drug_data_to_load = \"data/mouse_drug_data.csv\"\n",
    "clinical_trial_data_to_load = \"data/clinicaltrial_data.csv\"\n",
    "\n",
    "# Read the Mouse and Drug Data and the Clinical Trial Data\n",
    "mouse_data = pd.read_csv(mouse_drug_data_to_load)\n",
    "clinical_data = pd.read_csv(clinical_trial_data_to_load)\n",
    "# Combine the data into a single dataset\n",
    "merged_data=pd.merge(clinical_data, mouse_data, on=\"Mouse ID\", how=\"outer\")\n",
    "\n",
    "# Display the data table for preview\n",
    "merged_data\n"
   ]
  },
  {
   "cell_type": "code",
   "execution_count": null,
   "metadata": {},
   "outputs": [],
   "source": [
    "drug=merged_data[\"Drug\"]\n",
    "timepoint=merged_data[\"Timepoint\"]"
   ]
  },
  {
   "cell_type": "code",
   "execution_count": null,
   "metadata": {},
   "outputs": [],
   "source": [
    "# Store the Mean Tumor Volume Data Grouped by Drug and Timepoint \n",
    "grouped_data=merged_data.groupby([\"Drug\", \"Timepoint\"])\n",
    "grouped_data.count()\n",
    "grouped_data1=grouped_data[\"Tumor Volume (mm3)\"].mean()\n",
    "grouped_data1.head()\n",
    "# Convert to DataFrame\n",
    "tumor_df= pd.DataFrame(grouped_data1)\n",
    "# Preview DataFrame\n",
    "tumor_df.reset_index()"
   ]
  },
  {
   "cell_type": "code",
   "execution_count": null,
   "metadata": {
    "scrolled": true
   },
   "outputs": [],
   "source": [
    "# Store the Standard Error of Tumor Volumes Grouped by Drug and Timepoint\n",
    "standard_error= grouped_data[\"Tumor Volume (mm3)\"].sem()\n",
    "# Convert to DataFrame\n",
    "sterr_df= pd.DataFrame(standard_error)\n",
    "# Preview DataFrame\n",
    "sterr_df\n"
   ]
  },
  {
   "cell_type": "code",
   "execution_count": null,
   "metadata": {
    "scrolled": false
   },
   "outputs": [],
   "source": [
    "# Minor Data Munging to Re-Format the Data Frames\n",
    "tumor_df_pivot = pd.pivot_table(tumor_df,values='Tumor Volume (mm3)',\n",
    "                                index=['Timepoint'], columns=[\"Drug\"])\n",
    "# Preview that Reformatting worked\n",
    "tumor_df_pivot"
   ]
  },
  {
   "cell_type": "code",
   "execution_count": null,
   "metadata": {},
   "outputs": [],
   "source": [
    "grouped_data1 = merged_data.groupby(['Drug','Timepoint'])\n",
    "\n",
    "tumor_df = pd.DataFrame(grouped_data1['Tumor Volume (mm3)'].mean())\n",
    "tumor_sem = grouped_data1['Tumor Volume (mm3)'].sem()\n",
    "\n",
    "mean_met_df = pd.DataFrame(grouped_data1['Metastatic Sites'].mean())\n",
    "sterr_met_sem = grouped_data1['Metastatic Sites'].sem()\n",
    "\n",
    "tumor_unstack = tumor_df.unstack(0)\n",
    "mean_met_unstack = mean_met_df.unstack(0)\n",
    "\n",
    "x_axis = tumor_unstack.index"
   ]
  },
  {
   "cell_type": "code",
   "execution_count": null,
   "metadata": {},
   "outputs": [],
   "source": [
    "drugs = ['Capomulin','Ketapril','Infubinol','Placebo']\n",
    "colors = ['red','green','blue','black']\n",
    "markers = ['o','^','s','D']\n",
    "\n",
    "fig, ax = plt.subplots()\n",
    "\n",
    "for i in drugs:\n",
    "    k = drugs.index(i)\n",
    "    ax.errorbar(x_axis, tumor_unstack['Tumor Volume (mm3)'][i], yerr=tumor_sem[i], marker=markers[k], color=colors[k],\n",
    "                       linestyle='--', capsize=5,)\n",
    "\n",
    "ax.set_title('Response to Treatment')\n",
    "ax.legend()\n",
    "ax.set_xlim(0, 45)\n",
    "ax.set_ylim(35, 75)\n",
    "ax.grid(linestyle=':')\n",
    "ax.set_ylabel('Tumor Volume (mm3)')\n",
    "ax.set_xlabel('Time Elapsed (Days)')\n",
    "\n"
   ]
  },
  {
   "cell_type": "markdown",
   "metadata": {},
   "source": [
    "## Metastatic Response to Treatment"
   ]
  },
  {
   "cell_type": "code",
   "execution_count": null,
   "metadata": {},
   "outputs": [],
   "source": [
    "# Store the Mean Met. Site Data Grouped by Drug and Timepoint \n",
    "met=merged_data.groupby([\"Drug\",\"Timepoint\"])\n",
    "mean_met=met[\"Metastatic Sites\"].mean()\n",
    "mean_met\n",
    "# Convert to DataFrame\n",
    "mean_met_df=pd.DataFrame(mean_met)\n",
    "# Preview DataFrame\n",
    "mean_met_df.head()"
   ]
  },
  {
   "cell_type": "code",
   "execution_count": null,
   "metadata": {},
   "outputs": [],
   "source": [
    "# Store the Standard Error associated with Met. Sites Grouped by Drug and Timepoint \n",
    "standard_err_met=met[\"Metastatic Sites\"].sem()\n",
    "# Convert to DataFrame\n",
    "sterr_met_df=pd.DataFrame(standard_err_met)\n",
    "# Preview DataFrame\n",
    "sterr_met_df"
   ]
  },
  {
   "cell_type": "code",
   "execution_count": null,
   "metadata": {},
   "outputs": [],
   "source": [
    "# Minor Data Munging to Re-Format the Data Frames\n",
    "mean_met_df_pivot = pd.pivot_table(mean_met_df,values='Metastatic Sites',\n",
    "                                index=['Timepoint'], columns=[\"Drug\"])\n",
    "# Preview that Reformatting worked\n",
    "mean_met_df_pivot"
   ]
  },
  {
   "cell_type": "code",
   "execution_count": null,
   "metadata": {},
   "outputs": [],
   "source": [
    "# Generate the Plot (with Error Bars)\n",
    "\n",
    "\n",
    "drugs = ['Capomulin','Ketapril','Infubinol','Placebo']\n",
    "colors = ['red','green','blue','black']\n",
    "markers = ['o','^','s','D']\n",
    "\n",
    "fig, ax = plt.subplots()\n",
    "\n",
    "for i in drugs:\n",
    "    k = drugs.index(i)\n",
    "    ax.errorbar(x_axis, mean_met_unstack['Metastatic Sites'][i], yerr=sterr_met_df[i], marker=markers[k], color=colors[k],\n",
    "                       linestyle='--', capsize=5,)\n",
    "\n",
    "\n",
    "ax.set_title('Response to Treatment')\n",
    "ax.legend()\n",
    "ax.set_xlim(0, 45)\n",
    "ax.set_ylim(0.0,4.0)\n",
    "ax.grid(linestyle=':')\n",
    "ax.set_ylabel('Metastatic Sites')\n",
    "ax.set_xlabel('Time Elapsed (Days)')\n"
   ]
  },
  {
   "cell_type": "markdown",
   "metadata": {},
   "source": [
    "## Survival Rates"
   ]
  },
  {
   "cell_type": "code",
   "execution_count": null,
   "metadata": {},
   "outputs": [],
   "source": [
    "# Store the Count of Mice Grouped by Drug and Timepoint (W can pass any metric)\n",
    "mice=merged_data.groupby([\"Drug\",\"Timepoint\"])\n",
    "mouse_count=mice[\"Mouse ID\"].unique()\n",
    "mouse_count\n",
    "# Convert to DataFrame\n",
    "mouse_df=pd.DataFrame(mouse_count)\n",
    "\n",
    "# Preview DataFrame\n",
    "mouse_df"
   ]
  },
  {
   "cell_type": "code",
   "execution_count": null,
   "metadata": {},
   "outputs": [],
   "source": [
    "# Minor Data Munging to Re-Format the Data Frames\n",
    "\n",
    "survival_rate = pd.pivot_table(merged_data, values='Tumor Volume (mm3)', columns=['Drug'], index=['Timepoint'], aggfunc='count')\n",
    "sr_df = survival_rate[['Capomulin','Ketapril','Infubinol','Placebo']]\n",
    "\n",
    "survival_rate\n"
   ]
  },
  {
   "cell_type": "code",
   "execution_count": null,
   "metadata": {},
   "outputs": [],
   "source": [
    "# Generate the Plot (Accounting for percentages)\n",
    "drugs = ['Capomulin','Ketapril','Infubinol','Placebo']\n",
    "colors = ['red','green','blue','black']\n",
    "markers = ['o','^','s','D']\n",
    "\n",
    "fig, ax = plt.subplots()\n",
    "\n",
    "\n",
    "for i in drugs:\n",
    "    n = drugs.index(i)\n",
    "    ax.errorbar(x_axis, ((sr_df[i] / sr_df[i][0])*100) , marker=markers[n], color=colors[n],\n",
    "                       linestyle='--', capsize=5, mec = 'black')\n",
    "\n",
    "\n",
    "\n",
    "ax.set_title('Survival During Treatment')\n",
    "ax.legend()\n",
    "ax.set_xlim(0, 45)\n",
    "ax.set_ylim(30, 100)\n",
    "ax.grid()\n",
    "ax.set_ylabel('Survival Rate (%)')\n",
    "ax.set_xlabel('Time Elapsed (Days)')"
   ]
  },
  {
   "cell_type": "markdown",
   "metadata": {},
   "source": [
    "## Summary Bar Graph"
   ]
  },
  {
   "cell_type": "code",
   "execution_count": null,
   "metadata": {},
   "outputs": [],
   "source": [
    "# Calculate the percent changes for each drug\n",
    "percent_change = (tumor_df_pivot.loc[45, :] - tumor_df_pivot.loc[0, :])/tumor_df_pivot.loc[0, :] * 100\n",
    "\n",
    "# Display the data to confirm\n",
    "percent_change\n",
    "\n",
    "#Plotting the Bar Graph\n",
    "\n",
    "summary_pt = pd.pivot_table(merged_data, values='Tumor Volume (mm3)', columns=['Drug'], index=['Timepoint'], aggfunc='mean')\n",
    "summary_df = summary_pt[['Capomulin','Ketapril','Infubinol','Placebo']]\n",
    "summary_pct_list = []\n",
    "growth_dir = []\n",
    "pct_labels = []\n",
    "\n",
    "for i in drugs_to_plot:\n",
    "    start = summary_df[i][summary_df.index[0]]\n",
    "    end = summary_df[i][summary_df.index[-1]]\n",
    "    summary_pct = ((end - start) / start) * 100\n",
    "    summary_pct_list.append(summary_pct)\n",
    "    if summary_pct > 0:\n",
    "        growth_dir.append('red')\n",
    "    elif summary_pct < 0:\n",
    "        growth_dir.append('green')\n",
    "        \n",
    "summary_fig, summary_ax = plt.subplots()\n",
    "find_xlim = len(summary_pct_list) -0.5\n",
    "summary_bar = summary_ax.bar(drugs_to_plot, summary_pct_list, align='center',width=1)\n",
    "\n",
    "\n",
    "summary_ax.set_ylabel('Percent Tumor Volume Change')\n",
    "summary_ax.grid()\n",
    "summary_ax.set_xlim(-0.5, find_xlim, 1)\n",
    "summary_ax.set_title('Tumor Change Over 45 Day Treatment')\n",
    "\n",
    "\n",
    "for i in np.arange(0,len(drugs_to_plot)):\n",
    "    summary_bar[i].set_color(growth_dir[i])\n",
    "    summary_bar[i].set_label(summary_pct_list[i])\n",
    "    pct_labels.append(str(summary_pct_list[i].round(1))+'%')\n",
    "    for bar, label in zip(summary_bar, pct_labels):\n",
    "        if bar.get_height() > 0:\n",
    "            height = 6\n",
    "        elif bar.get_height() < 0:  \n",
    "            height = -10\n",
    "        summary_ax.text(bar.get_x() + bar.get_width() / 2, height, label, ha='center', va='bottom', color='white')\n",
    "\n"
   ]
  },
  {
   "cell_type": "markdown",
   "metadata": {},
   "source": [
    "##Observations\n",
    "1. out of the 4 drugs that were plotted, Capomulin seemed to give mice the best survival rate.\n",
    "2. the tumor volume didnt change/increased for infubinol, ketapril, or the placebo\n",
    "3. from the pivot table on tumor volume, it was also observed that Ramicane also had a positive effect on the decrease on tumor volume over time."
   ]
  },
  {
   "cell_type": "code",
   "execution_count": null,
   "metadata": {},
   "outputs": [],
   "source": []
  }
 ],
 "metadata": {
  "anaconda-cloud": {},
  "kernelspec": {
   "display_name": "Python 3",
   "language": "python",
   "name": "python3"
  },
  "language_info": {
   "codemirror_mode": {
    "name": "ipython",
    "version": 3
   },
   "file_extension": ".py",
   "mimetype": "text/x-python",
   "name": "python",
   "nbconvert_exporter": "python",
   "pygments_lexer": "ipython3",
   "version": "3.7.4"
  }
 },
 "nbformat": 4,
 "nbformat_minor": 1
}
